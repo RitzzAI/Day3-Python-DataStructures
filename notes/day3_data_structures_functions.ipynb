{
 "cells": [
  {
   "cell_type": "markdown",
   "id": "6c5d4b2f",
   "metadata": {},
   "source": [
    "# 📘 Day 3: Python Data Structures + Functions"
   ]
  },
  {
   "cell_type": "markdown",
   "id": "ccc86281",
   "metadata": {},
   "source": [
    "## 🧾 Lists\n",
    "A list is a collection which is ordered and changeable."
   ]
  },
  {
   "cell_type": "code",
   "execution_count": null,
   "id": "83d53d7d",
   "metadata": {},
   "outputs": [],
   "source": [
    "fruits = ['apple', 'banana', 'cherry']\n",
    "print(fruits)\n",
    "fruits.append('orange')\n",
    "print(fruits)"
   ]
  },
  {
   "cell_type": "markdown",
   "id": "22dc782f",
   "metadata": {},
   "source": [
    "## 🧊 Tuples\n",
    "A tuple is a collection which is ordered and **unchangeable**."
   ]
  },
  {
   "cell_type": "code",
   "execution_count": null,
   "id": "aabc1190",
   "metadata": {},
   "outputs": [],
   "source": [
    "dimensions = (1920, 1080)\n",
    "print(dimensions[0])"
   ]
  },
  {
   "cell_type": "markdown",
   "id": "78486fc9",
   "metadata": {},
   "source": [
    "## 🧺 Sets\n",
    "A set is a collection which is unordered and unindexed, with no duplicate elements."
   ]
  },
  {
   "cell_type": "code",
   "execution_count": null,
   "id": "9b33e597",
   "metadata": {},
   "outputs": [],
   "source": [
    "colors = {'red', 'green', 'blue', 'red'}\n",
    "print(colors)"
   ]
  },
  {
   "cell_type": "markdown",
   "id": "91f3dc86",
   "metadata": {},
   "source": [
    "## 🗃️ Dictionaries\n",
    "A dictionary is a collection of key-value pairs."
   ]
  },
  {
   "cell_type": "code",
   "execution_count": null,
   "id": "48ab486f",
   "metadata": {},
   "outputs": [],
   "source": [
    "student = {'name': 'Alice', 'age': 21}\n",
    "print(student['name'])"
   ]
  },
  {
   "cell_type": "markdown",
   "id": "d592da1a",
   "metadata": {},
   "source": [
    "## 🔁 Looping with Data Structures"
   ]
  },
  {
   "cell_type": "code",
   "execution_count": null,
   "id": "c3838c95",
   "metadata": {},
   "outputs": [],
   "source": [
    "for fruit in fruits:\n",
    "    print(fruit)"
   ]
  },
  {
   "cell_type": "markdown",
   "id": "f3acbf1b",
   "metadata": {},
   "source": [
    "## 🧠 Functions\n",
    "Functions help organize code into reusable blocks."
   ]
  },
  {
   "cell_type": "code",
   "execution_count": null,
   "id": "59fa4a9d",
   "metadata": {},
   "outputs": [],
   "source": [
    "def greet(name):\n",
    "    return f\"Hello, {name}!\"\n",
    "\n",
    "greet(\"Ritesh\")"
   ]
  },
  {
   "cell_type": "markdown",
   "id": "8b423b25",
   "metadata": {},
   "source": [
    "## ⚡ Lambda Functions"
   ]
  },
  {
   "cell_type": "code",
   "execution_count": null,
   "id": "2fbdf821",
   "metadata": {},
   "outputs": [],
   "source": [
    "square = lambda x: x * x\n",
    "print(square(4))"
   ]
  },
  {
   "cell_type": "markdown",
   "id": "101af64e",
   "metadata": {},
   "source": [
    "## 🛠️ Built-in Tools"
   ]
  },
  {
   "cell_type": "code",
   "execution_count": null,
   "id": "0fde8d6d",
   "metadata": {},
   "outputs": [],
   "source": [
    "nums = [1, 2, 3, 4]\n",
    "squares = list(map(lambda x: x*x, nums))\n",
    "print(squares)"
   ]
  }
 ],
 "metadata": {},
 "nbformat": 4,
 "nbformat_minor": 5
}
